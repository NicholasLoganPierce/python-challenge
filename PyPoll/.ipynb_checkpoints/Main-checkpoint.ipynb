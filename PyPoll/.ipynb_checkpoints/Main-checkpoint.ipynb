{
 "cells": [
  {
   "cell_type": "code",
   "execution_count": 2,
   "metadata": {},
   "outputs": [
    {
     "data": {
      "text/plain": [
       "3521001"
      ]
     },
     "execution_count": 2,
     "metadata": {},
     "output_type": "execute_result"
    }
   ],
   "source": [
    "#import Pandas, read the CSV through Pandas, find # of total votes\n",
    "import pandas as pd\n",
    "data_file = \"Resources/election_data.csv\"\n",
    "data_file_pd = pd.read_csv(data_file)\n",
    "Total_Votes = len(data_file_pd[\"Voter ID\"].value_counts())\n",
    "Total_Votes"
   ]
  },
  {
   "cell_type": "code",
   "execution_count": 7,
   "metadata": {},
   "outputs": [
    {
     "data": {
      "text/plain": [
       "Khan        2218231\n",
       "Correy       704200\n",
       "Li           492940\n",
       "O'Tooley     105630\n",
       "Name: Candidate, dtype: int64"
      ]
     },
     "execution_count": 7,
     "metadata": {},
     "output_type": "execute_result"
    }
   ],
   "source": [
    "Candidates = data_file_pd[\"Candidate\"].value_counts()\n",
    "Candidates"
   ]
  },
  {
   "cell_type": "code",
   "execution_count": 56,
   "metadata": {},
   "outputs": [
    {
     "name": "stdout",
     "output_type": "stream",
     "text": [
      "63%\n"
     ]
    }
   ],
   "source": [
    "Khan_Total = 2218231\n",
    "Percent_Khan = \"{0:.0%}\".format(Khan_Total/Total_Votes)\n",
    "print(Percent_Khan)\n",
    "Correy_Total = 704200\n",
    "Percent_Correy = \"{0:.0%}\".format(Correy_Total/Total_Votes)\n",
    "Li_Total = 492940\n",
    "Percent_Li = \"{0:.0%}\".format(Li_Total/Total_Votes)\n",
    "Tooley_Total = 105630\n",
    "Percent_Tooley = \"{0:.0%}\".format(Tooley_Total/Total_Votes)\n",
    "\n",
    "Winner = \"Khan\"\n"
   ]
  },
  {
   "cell_type": "code",
   "execution_count": 60,
   "metadata": {},
   "outputs": [
    {
     "name": "stdout",
     "output_type": "stream",
     "text": [
      "Election Results \n",
      "---------------------------- \n",
      "Total Votes: 3521001 \n",
      "---------------------------- \n",
      "Khan: 63% (2218231) \n",
      "Correy: 20% (704200) \n",
      "Li: 14% (492940) \n",
      "O'Tooley: 3% (105630) \n",
      "---------------------------- \n",
      "Winner: Khan \n",
      "---------------------------- \n",
      "\n"
     ]
    }
   ],
   "source": [
    "#create Results varialbe and use f-strings for presentation\n",
    "Results = (\n",
    "f\"Election Results \\n\"\n",
    "f\"---------------------------- \\n\"\n",
    "f\"Total Votes: {Total_Votes} \\n\"\n",
    "f\"---------------------------- \\n\"\n",
    "f\"Khan: {Percent_Khan} ({Khan_Total}) \\n\"\n",
    "f\"Correy: {Percent_Correy} ({Correy_Total}) \\n\"\n",
    "f\"Li: {Percent_Li} ({Li_Total}) \\n\"\n",
    "f\"O'Tooley: {Percent_Tooley} ({Tooley_Total}) \\n\"\n",
    "f\"---------------------------- \\n\"\n",
    "f\"Winner: {Winner} \\n\"    \n",
    "f\"---------------------------- \\n\")\n",
    "print(Results)\n",
    "\n",
    "#write a text file to export results \n",
    "import os\n",
    "output = os.path.join('Results.txt')\n",
    "with open(output, 'w') as txtfile:\n",
    "    txtwriter = txtfile.write(Results)"
   ]
  },
  {
   "cell_type": "code",
   "execution_count": null,
   "metadata": {},
   "outputs": [],
   "source": []
  }
 ],
 "metadata": {
  "kernelspec": {
   "display_name": "Python 3",
   "language": "python",
   "name": "python3"
  },
  "language_info": {
   "codemirror_mode": {
    "name": "ipython",
    "version": 3
   },
   "file_extension": ".py",
   "mimetype": "text/x-python",
   "name": "python",
   "nbconvert_exporter": "python",
   "pygments_lexer": "ipython3",
   "version": "3.7.4"
  }
 },
 "nbformat": 4,
 "nbformat_minor": 2
}
