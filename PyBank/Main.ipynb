{
 "cells": [
  {
   "cell_type": "code",
   "execution_count": 3,
   "metadata": {},
   "outputs": [
    {
     "data": {
      "text/plain": [
       "86"
      ]
     },
     "execution_count": 3,
     "metadata": {},
     "output_type": "execute_result"
    }
   ],
   "source": [
    "#find number of months, import Pandas, read the CSV through Pandas\n",
    "import pandas as pd\n",
    "data_file = \"Resources/Budget_Data.csv\"\n",
    "data_file_pd = pd.read_csv(data_file)\n",
    "Number_of_Months = len(data_file_pd[\"Date\"].value_counts())\n",
    "Number_of_Months"
   ]
  },
  {
   "cell_type": "code",
   "execution_count": 4,
   "metadata": {},
   "outputs": [
    {
     "data": {
      "text/plain": [
       "38382578"
      ]
     },
     "execution_count": 4,
     "metadata": {},
     "output_type": "execute_result"
    }
   ],
   "source": [
    "#find Total Revenue\n",
    "Net_Profit_Loss = data_file_pd[\"Profit/Losses\"].sum()\n",
    "Net_Profit_Loss"
   ]
  },
  {
   "cell_type": "code",
   "execution_count": 5,
   "metadata": {},
   "outputs": [
    {
     "name": "stdout",
     "output_type": "stream",
     "text": [
      "867884\n",
      "116771\n",
      "-662642\n",
      "-391430\n",
      "379920\n",
      "212354\n",
      "510239\n",
      "-428211\n",
      "-821271\n",
      "693918\n",
      "416278\n",
      "-974163\n",
      "860159\n",
      "-1115009\n",
      "1033048\n",
      "95318\n",
      "-308093\n",
      "99052\n",
      "-521393\n",
      "605450\n",
      "231727\n",
      "-65187\n",
      "-702716\n",
      "177975\n",
      "-1065544\n",
      "1926159\n",
      "-917805\n",
      "898730\n",
      "-334262\n",
      "-246499\n",
      "-64055\n",
      "-1529236\n",
      "1497596\n",
      "304914\n",
      "-635801\n",
      "398319\n",
      "-183161\n",
      "-37864\n",
      "-253689\n",
      "403655\n",
      "94168\n",
      "306877\n",
      "-83000\n",
      "210462\n",
      "-2196167\n",
      "1465222\n",
      "-956983\n",
      "1838447\n",
      "-468003\n",
      "-64602\n",
      "206242\n",
      "-242155\n",
      "-449079\n",
      "315198\n",
      "241099\n",
      "111540\n",
      "365942\n",
      "-219310\n",
      "-368665\n",
      "409837\n",
      "151210\n",
      "-110244\n",
      "-341938\n",
      "-1212159\n",
      "683246\n",
      "-70825\n",
      "335594\n",
      "417334\n",
      "-272194\n",
      "-236462\n",
      "657432\n",
      "-211262\n",
      "-128237\n",
      "-1750387\n",
      "925441\n",
      "932089\n",
      "-311434\n",
      "267252\n",
      "-1876758\n",
      "1733696\n",
      "198551\n",
      "-665765\n",
      "693229\n",
      "-734926\n",
      "77242\n",
      "532869\n",
      "-2315.1176470588234\n",
      "1926159\n",
      "-2196167\n"
     ]
    }
   ],
   "source": [
    "import csv\n",
    "import os\n",
    "\n",
    "#read the CSV outside of Pandas\n",
    "csvpath = os.path.join(\"Resources\", \"budget_data.csv\")\n",
    "\n",
    "#Set Variables, give them initial values\n",
    "Previous_Revenue = 0\n",
    "Monthly_Change = 0\n",
    "Average_Monthly_Change = 0\n",
    "Sum_Monthly_Change = 0\n",
    "Max_Increase = 0\n",
    "Max_Decrease = 0\n",
    "\n",
    "#establish a for loop to do the average revenue change calculation\n",
    "with open(csvpath, newline = \"\") as file:\n",
    "    csvreader =  csv.DictReader(file, delimiter=\",\")\n",
    "    for row in csvreader:\n",
    "        Monthly_Change = int(row[\"Profit/Losses\"])- Previous_Revenue\n",
    "        Previous_Revenue = int(row[\"Profit/Losses\"])\n",
    "        \n",
    "        Sum_Monthly_Change = Sum_Monthly_Change + Monthly_Change\n",
    "        \n",
    "        print(Monthly_Change)\n",
    "        \n",
    "         #find the greatest increase in revenue\n",
    "        if (Monthly_Change > Max_Increase):\n",
    "            HighestIncMonth = row[\"Date\"]\n",
    "            Max_Increase = Monthly_Change \n",
    "        #find the greatest decrease in revenue\n",
    "        if (Monthly_Change < Max_Decrease):\n",
    "            LowestDecMonth = row[\"Date\"]\n",
    "            Max_Decrease = Monthly_Change\n",
    "        \n",
    "Average_Monthly_Change = (Sum_Monthly_Change-867884)/85\n",
    "\n",
    "print(Average_Monthly_Change)\n",
    "\n",
    "print(Max_Increase)\n",
    "\n",
    "print(Max_Decrease)\n",
    "\n"
   ]
  },
  {
   "cell_type": "code",
   "execution_count": 6,
   "metadata": {},
   "outputs": [
    {
     "name": "stdout",
     "output_type": "stream",
     "text": [
      "Final Results \n",
      "---------------------------- \n",
      "Total Months: 86 \n",
      "Total Revenue: $38382578 \n",
      "Average Revenue Change: $-2315.1176470588234 \n",
      "Greatest Increase in Revenue: Feb-2012 ($1926159) \n",
      "Greatest Decrease in Revenue: Sep-2013 ($-2196167) \n",
      "\n"
     ]
    }
   ],
   "source": [
    "#create Results varialbe and use f-strings for presentation\n",
    "Results = (\n",
    "f\"Final Results \\n\"\n",
    "f\"---------------------------- \\n\"\n",
    "f\"Total Months: {Number_of_Months} \\n\"\n",
    "f\"Total Revenue: ${Net_Profit_Loss} \\n\"\n",
    "f\"Average Revenue Change: ${Average_Monthly_Change} \\n\"\n",
    "f\"Greatest Increase in Revenue: {HighestIncMonth} (${Max_Increase}) \\n\"\n",
    "f\"Greatest Decrease in Revenue: {LowestDecMonth} (${Max_Decrease}) \\n\")\n",
    "print(Results)\n",
    "\n",
    "#write a text file to export results \n",
    "output = os.path.join('Results.txt')\n",
    "with open(output, 'w') as txtfile:\n",
    "    txtwriter = txtfile.write(Results)"
   ]
  },
  {
   "cell_type": "code",
   "execution_count": null,
   "metadata": {},
   "outputs": [],
   "source": []
  }
 ],
 "metadata": {
  "kernelspec": {
   "display_name": "Python 3",
   "language": "python",
   "name": "python3"
  },
  "language_info": {
   "codemirror_mode": {
    "name": "ipython",
    "version": 3
   },
   "file_extension": ".py",
   "mimetype": "text/x-python",
   "name": "python",
   "nbconvert_exporter": "python",
   "pygments_lexer": "ipython3",
   "version": "3.7.4"
  }
 },
 "nbformat": 4,
 "nbformat_minor": 2
}
